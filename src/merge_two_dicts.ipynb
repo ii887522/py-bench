{
 "cells": [
  {
   "cell_type": "code",
   "execution_count": 12,
   "metadata": {},
   "outputs": [],
   "source": [
    "import timeit"
   ]
  },
  {
   "cell_type": "code",
   "execution_count": 13,
   "metadata": {},
   "outputs": [],
   "source": [
    "def test_update():\n",
    "    a = {\"a\": 1, \"b\": 2, \"c\": 3, \"d\": 4, \"e\": 5}\n",
    "    b = {\"f\": 1, \"g\": 2, \"h\": 3, \"i\": 4, \"j\": 5}\n",
    "    c = a.update(b)"
   ]
  },
  {
   "cell_type": "code",
   "execution_count": 14,
   "metadata": {},
   "outputs": [],
   "source": [
    "def test_spread():\n",
    "    a = {\"a\": 1, \"b\": 2, \"c\": 3, \"d\": 4, \"e\": 5}\n",
    "    b = {\"f\": 1, \"g\": 2, \"h\": 3, \"i\": 4, \"j\": 5}\n",
    "    c = {**a, **b}"
   ]
  },
  {
   "cell_type": "code",
   "execution_count": 15,
   "metadata": {},
   "outputs": [],
   "source": [
    "def test_bar():\n",
    "    a = {\"a\": 1, \"b\": 2, \"c\": 3, \"d\": 4, \"e\": 5}\n",
    "    b = {\"f\": 1, \"g\": 2, \"h\": 3, \"i\": 4, \"j\": 5}\n",
    "    c = a | b"
   ]
  },
  {
   "cell_type": "code",
   "execution_count": 16,
   "metadata": {},
   "outputs": [],
   "source": [
    "def test_for_loop_keys():\n",
    "    a = {\"a\": 1, \"b\": 2, \"c\": 3, \"d\": 4, \"e\": 5}\n",
    "    b = {\"f\": 1, \"g\": 2, \"h\": 3, \"i\": 4, \"j\": 5}\n",
    "\n",
    "    for k in b.keys():\n",
    "        a[k] = b[k]"
   ]
  },
  {
   "cell_type": "code",
   "execution_count": 17,
   "metadata": {},
   "outputs": [],
   "source": [
    "from collections import ChainMap\n",
    "\n",
    "def test_chain_map():\n",
    "    a = {\"a\": 1, \"b\": 2, \"c\": 3, \"d\": 4, \"e\": 5}\n",
    "    b = {\"f\": 1, \"g\": 2, \"h\": 3, \"i\": 4, \"j\": 5}\n",
    "    c = ChainMap(a, b)"
   ]
  },
  {
   "cell_type": "code",
   "execution_count": 18,
   "metadata": {},
   "outputs": [
    {
     "name": "stdout",
     "output_type": "stream",
     "text": [
      "update: 0.8627928999994765 s\n"
     ]
    }
   ],
   "source": [
    "print(\"update:\", min(timeit.repeat(test_update)), \"s\")"
   ]
  },
  {
   "cell_type": "code",
   "execution_count": 19,
   "metadata": {},
   "outputs": [
    {
     "name": "stdout",
     "output_type": "stream",
     "text": [
      "spread: 0.8836706000001868 s\n"
     ]
    }
   ],
   "source": [
    "print(\"spread:\", min(timeit.repeat(test_spread)), \"s\")"
   ]
  },
  {
   "cell_type": "code",
   "execution_count": 20,
   "metadata": {},
   "outputs": [
    {
     "name": "stdout",
     "output_type": "stream",
     "text": [
      "bar: 0.882499800000005 s\n"
     ]
    }
   ],
   "source": [
    "print(\"bar:\", min(timeit.repeat(test_bar)), \"s\")"
   ]
  },
  {
   "cell_type": "code",
   "execution_count": 21,
   "metadata": {},
   "outputs": [
    {
     "name": "stdout",
     "output_type": "stream",
     "text": [
      "for_loop_keys: 1.311031000001094 s\n"
     ]
    }
   ],
   "source": [
    "print(\"for_loop_keys:\", min(timeit.repeat(test_for_loop_keys)), \"s\")"
   ]
  },
  {
   "cell_type": "code",
   "execution_count": 22,
   "metadata": {},
   "outputs": [
    {
     "name": "stdout",
     "output_type": "stream",
     "text": [
      "chain_map: 1.1910289000006742 s\n"
     ]
    }
   ],
   "source": [
    "print(\"chain_map:\", min(timeit.repeat(test_chain_map)), \"s\")"
   ]
  }
 ],
 "metadata": {
  "kernelspec": {
   "display_name": "venv",
   "language": "python",
   "name": "python3"
  },
  "language_info": {
   "codemirror_mode": {
    "name": "ipython",
    "version": 3
   },
   "file_extension": ".py",
   "mimetype": "text/x-python",
   "name": "python",
   "nbconvert_exporter": "python",
   "pygments_lexer": "ipython3",
   "version": "3.10.9"
  },
  "orig_nbformat": 4
 },
 "nbformat": 4,
 "nbformat_minor": 2
}
