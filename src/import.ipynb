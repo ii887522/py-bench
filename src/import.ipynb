{
 "cells": [
  {
   "cell_type": "code",
   "execution_count": 61,
   "metadata": {},
   "outputs": [],
   "source": [
    "import timeit"
   ]
  },
  {
   "cell_type": "code",
   "execution_count": 62,
   "metadata": {},
   "outputs": [],
   "source": [
    "def test_import_whole(n):\n",
    "    import json\n",
    "\n",
    "    for _ in range(n):\n",
    "        json.dumps"
   ]
  },
  {
   "cell_type": "code",
   "execution_count": 63,
   "metadata": {},
   "outputs": [],
   "source": [
    "def test_import_part(n):\n",
    "    from json import dumps\n",
    "\n",
    "    for _ in range(n):\n",
    "        dumps"
   ]
  },
  {
   "cell_type": "code",
   "execution_count": 64,
   "metadata": {},
   "outputs": [
    {
     "name": "stdout",
     "output_type": "stream",
     "text": [
      "import_whole(20): 1.8071640999987721 s\n"
     ]
    }
   ],
   "source": [
    "print(\"import_whole(20):\", min(timeit.repeat(lambda: test_import_whole(20))), \"s\")"
   ]
  },
  {
   "cell_type": "code",
   "execution_count": 65,
   "metadata": {},
   "outputs": [
    {
     "name": "stdout",
     "output_type": "stream",
     "text": [
      "import_part(20): 1.8279722000006586 s\n"
     ]
    }
   ],
   "source": [
    "print(\"import_part(20):\", min(timeit.repeat(lambda: test_import_part(20))), \"s\")"
   ]
  },
  {
   "cell_type": "code",
   "execution_count": 66,
   "metadata": {},
   "outputs": [
    {
     "name": "stdout",
     "output_type": "stream",
     "text": [
      "import_whole(21): 1.8555085000043618 s\n"
     ]
    }
   ],
   "source": [
    "print(\"import_whole(21):\", min(timeit.repeat(lambda: test_import_whole(21))), \"s\")"
   ]
  },
  {
   "cell_type": "code",
   "execution_count": 67,
   "metadata": {},
   "outputs": [
    {
     "name": "stdout",
     "output_type": "stream",
     "text": [
      "import_part(21): 1.8136555000019143 s\n"
     ]
    }
   ],
   "source": [
    "print(\"import_part(21):\", min(timeit.repeat(lambda: test_import_part(21))), \"s\")"
   ]
  },
  {
   "attachments": {},
   "cell_type": "markdown",
   "metadata": {},
   "source": [
    "### Conclusion\n",
    "If the expected number of times to access a particular property (variable / class / function) of a module is below or equal to 20 times, then should use `import x` method;\n",
    "\n",
    "Otherwise, should use `from x import y` method."
   ]
  }
 ],
 "metadata": {
  "kernelspec": {
   "display_name": "venv",
   "language": "python",
   "name": "python3"
  },
  "language_info": {
   "codemirror_mode": {
    "name": "ipython",
    "version": 3
   },
   "file_extension": ".py",
   "mimetype": "text/x-python",
   "name": "python",
   "nbconvert_exporter": "python",
   "pygments_lexer": "ipython3",
   "version": "3.10.9"
  },
  "orig_nbformat": 4
 },
 "nbformat": 4,
 "nbformat_minor": 2
}
